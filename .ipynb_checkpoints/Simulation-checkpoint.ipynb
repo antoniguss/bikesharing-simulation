{
 "cells": [
  {
   "cell_type": "markdown",
   "id": "21821221-e57d-4dc3-9be5-63fbd80d2967",
   "metadata": {},
   "source": [
    "# 4CBLW00-17 Urban mobility startups for livable cities - simulation"
   ]
  },
  {
   "cell_type": "markdown",
   "id": "a80e13a8-b1c5-4989-a50f-94d192b8df80",
   "metadata": {},
   "source": [
    "## Part 1: Using geographical data of Eindhoven and bike network to obtain approximate travel times\n",
    "- [Services | openrouteservice](https://openrouteservice.org/services/)\n",
    "    - Offers a service to calculate _many-to-many_ travel times using bikes (including e-bikes)\n",
    ", can be access through API. We could fetch the data once and store them for further use. (better use openrouteservice-py)\n",
    "\n",
    "[Quickstart — openrouteservice-py 0.4 documentation](https://openrouteservice-py.readthedocs.io/en/latest/) is what we'll actually use. _\"The openrouteservice library gives you painless access to the openrouteservice (ORS) routing API’s. It performs requests against our API’s for\"_\n",
    "\n",
    "As suggested, we will use `Simpy` to simulate users of the systems renting and using bikes\n",
    "We can use `Folium` to perform map visualizations"
   ]
  },
  {
   "cell_type": "markdown",
   "id": "79918283-4497-4c2f-982c-74ab9189e294",
   "metadata": {},
   "source": [
    "### Instalation of tools\n",
    "- `Openrouteservice` for obtaining travel times\n",
    "- `SimPy` for simulating agents renting bikes\n",
    "- `Folium` for map visualizations\n",
    "\n",
    "Uncomment and run the code cell below to install them:"
   ]
  },
  {
   "cell_type": "code",
   "execution_count": 10,
   "id": "0ddcfcff-c7e7-40a4-b1be-51156cd62a62",
   "metadata": {},
   "outputs": [],
   "source": [
    "# %pip install openrouteservice\n",
    "# %pip install simpy\n",
    "# %pip install folium"
   ]
  },
  {
   "cell_type": "markdown",
   "id": "bbc11a4e",
   "metadata": {},
   "source": [
    "### Map visualisations using `Folium`"
   ]
  },
  {
   "cell_type": "code",
   "execution_count": 20,
   "id": "a39a951d",
   "metadata": {},
   "outputs": [
    {
     "data": {
      "text/html": [
       "<div style=\"width:100%;\"><div style=\"position:relative;width:100%;height:0;padding-bottom:60%;\"><span style=\"color:#565656\">Make this Notebook Trusted to load map: File -> Trust Notebook</span><iframe srcdoc=\"&lt;!DOCTYPE html&gt;\n",
       "&lt;html&gt;\n",
       "&lt;head&gt;\n",
       "    \n",
       "    &lt;meta http-equiv=&quot;content-type&quot; content=&quot;text/html; charset=UTF-8&quot; /&gt;\n",
       "    \n",
       "        &lt;script&gt;\n",
       "            L_NO_TOUCH = false;\n",
       "            L_DISABLE_3D = false;\n",
       "        &lt;/script&gt;\n",
       "    \n",
       "    &lt;style&gt;html, body {width: 100%;height: 100%;margin: 0;padding: 0;}&lt;/style&gt;\n",
       "    &lt;style&gt;#map {position:absolute;top:0;bottom:0;right:0;left:0;}&lt;/style&gt;\n",
       "    &lt;script src=&quot;https://cdn.jsdelivr.net/npm/leaflet@1.9.3/dist/leaflet.js&quot;&gt;&lt;/script&gt;\n",
       "    &lt;script src=&quot;https://code.jquery.com/jquery-3.7.1.min.js&quot;&gt;&lt;/script&gt;\n",
       "    &lt;script src=&quot;https://cdn.jsdelivr.net/npm/bootstrap@5.2.2/dist/js/bootstrap.bundle.min.js&quot;&gt;&lt;/script&gt;\n",
       "    &lt;script src=&quot;https://cdnjs.cloudflare.com/ajax/libs/Leaflet.awesome-markers/2.0.2/leaflet.awesome-markers.js&quot;&gt;&lt;/script&gt;\n",
       "    &lt;link rel=&quot;stylesheet&quot; href=&quot;https://cdn.jsdelivr.net/npm/leaflet@1.9.3/dist/leaflet.css&quot;/&gt;\n",
       "    &lt;link rel=&quot;stylesheet&quot; href=&quot;https://cdn.jsdelivr.net/npm/bootstrap@5.2.2/dist/css/bootstrap.min.css&quot;/&gt;\n",
       "    &lt;link rel=&quot;stylesheet&quot; href=&quot;https://netdna.bootstrapcdn.com/bootstrap/3.0.0/css/bootstrap-glyphicons.css&quot;/&gt;\n",
       "    &lt;link rel=&quot;stylesheet&quot; href=&quot;https://cdn.jsdelivr.net/npm/@fortawesome/fontawesome-free@6.2.0/css/all.min.css&quot;/&gt;\n",
       "    &lt;link rel=&quot;stylesheet&quot; href=&quot;https://cdnjs.cloudflare.com/ajax/libs/Leaflet.awesome-markers/2.0.2/leaflet.awesome-markers.css&quot;/&gt;\n",
       "    &lt;link rel=&quot;stylesheet&quot; href=&quot;https://cdn.jsdelivr.net/gh/python-visualization/folium/folium/templates/leaflet.awesome.rotate.min.css&quot;/&gt;\n",
       "    \n",
       "            &lt;meta name=&quot;viewport&quot; content=&quot;width=device-width,\n",
       "                initial-scale=1.0, maximum-scale=1.0, user-scalable=no&quot; /&gt;\n",
       "            &lt;style&gt;\n",
       "                #map_bfd7367f3442e4104951c16bd800f400 {\n",
       "                    position: relative;\n",
       "                    width: 100.0%;\n",
       "                    height: 100.0%;\n",
       "                    left: 0.0%;\n",
       "                    top: 0.0%;\n",
       "                }\n",
       "                .leaflet-container { font-size: 1rem; }\n",
       "            &lt;/style&gt;\n",
       "        \n",
       "&lt;/head&gt;\n",
       "&lt;body&gt;\n",
       "    \n",
       "    \n",
       "            &lt;div class=&quot;folium-map&quot; id=&quot;map_bfd7367f3442e4104951c16bd800f400&quot; &gt;&lt;/div&gt;\n",
       "        \n",
       "&lt;/body&gt;\n",
       "&lt;script&gt;\n",
       "    \n",
       "    \n",
       "            var map_bfd7367f3442e4104951c16bd800f400 = L.map(\n",
       "                &quot;map_bfd7367f3442e4104951c16bd800f400&quot;,\n",
       "                {\n",
       "                    center: [0.0, 0.0],\n",
       "                    crs: L.CRS.EPSG3857,\n",
       "                    ...{\n",
       "  &quot;zoom&quot;: 1,\n",
       "  &quot;zoomControl&quot;: true,\n",
       "  &quot;preferCanvas&quot;: false,\n",
       "  &quot;loation&quot;: [51.443182, 5.478262],\n",
       "}\n",
       "\n",
       "                }\n",
       "            );\n",
       "\n",
       "            \n",
       "\n",
       "        \n",
       "    \n",
       "            var tile_layer_45a8f21f0b0a09f4f6af9701cc9d9ced = L.tileLayer(\n",
       "                &quot;https://tile.openstreetmap.org/{z}/{x}/{y}.png&quot;,\n",
       "                {\n",
       "  &quot;minZoom&quot;: 0,\n",
       "  &quot;maxZoom&quot;: 19,\n",
       "  &quot;maxNativeZoom&quot;: 19,\n",
       "  &quot;noWrap&quot;: false,\n",
       "  &quot;attribution&quot;: &quot;\\u0026copy; \\u003ca href=\\&quot;https://www.openstreetmap.org/copyright\\&quot;\\u003eOpenStreetMap\\u003c/a\\u003e contributors&quot;,\n",
       "  &quot;subdomains&quot;: &quot;abc&quot;,\n",
       "  &quot;detectRetina&quot;: false,\n",
       "  &quot;tms&quot;: false,\n",
       "  &quot;opacity&quot;: 1,\n",
       "}\n",
       "\n",
       "            );\n",
       "        \n",
       "    \n",
       "            tile_layer_45a8f21f0b0a09f4f6af9701cc9d9ced.addTo(map_bfd7367f3442e4104951c16bd800f400);\n",
       "        \n",
       "    \n",
       "            var marker_5b4e3c2e6840869660527a90b67c2e25 = L.marker(\n",
       "                [51.443182, 5.478262],\n",
       "                {\n",
       "}\n",
       "            ).addTo(map_bfd7367f3442e4104951c16bd800f400);\n",
       "        \n",
       "    \n",
       "            var marker_b18a5f345f69b00cc8bd87b847dbd39d = L.marker(\n",
       "                [51.447882, 5.485938],\n",
       "                {\n",
       "}\n",
       "            ).addTo(map_bfd7367f3442e4104951c16bd800f400);\n",
       "        \n",
       "    \n",
       "            var marker_1767c52a5c3577e636b253f60da5b6aa = L.marker(\n",
       "                [51.448882, 5.487938],\n",
       "                {\n",
       "}\n",
       "            ).addTo(map_bfd7367f3442e4104951c16bd800f400);\n",
       "        \n",
       "    \n",
       "            var marker_6a78355bf7ff53304523dd5b23805d97 = L.marker(\n",
       "                [51.449882, 5.488938],\n",
       "                {\n",
       "}\n",
       "            ).addTo(map_bfd7367f3442e4104951c16bd800f400);\n",
       "        \n",
       "&lt;/script&gt;\n",
       "&lt;/html&gt;\" style=\"position:absolute;width:100%;height:100%;left:0;top:0;border:none !important;\" allowfullscreen webkitallowfullscreen mozallowfullscreen></iframe></div></div>"
      ],
      "text/plain": [
       "<folium.folium.Map at 0x107106290>"
      ]
     },
     "execution_count": 20,
     "metadata": {},
     "output_type": "execute_result"
    }
   ],
   "source": [
    "import folium\n",
    "coords = ((51.443182, 5.478262), (51.447882, 5.485938), (51.448882, 5.487938), (51.449882, 5.488938))\n",
    "\n",
    "\n",
    "m = folium.Map(loation=coords[0], zoom_start=20)\n",
    "for coord in coords:\n",
    "    folium.Marker(location=coord).add_to(m)\n",
    "\n",
    "m"
   ]
  },
  {
   "cell_type": "markdown",
   "id": "c8c6f3b9-ce5c-48c1-a475-9447fe41bea2",
   "metadata": {},
   "source": [
    "## Part 2: Using travel times to simulate usage of bikes in the network by using agents in Simpy"
   ]
  },
  {
   "cell_type": "code",
   "execution_count": 2,
   "id": "927c1bd9-9be7-46d7-9e6d-eb0560c5bb32",
   "metadata": {},
   "outputs": [
    {
     "name": "stdout",
     "output_type": "stream",
     "text": [
      "Start parking at 0\n",
      "Start driving at 5\n",
      "Start parking at 7\n",
      "Start driving at 12\n",
      "Start parking at 14\n"
     ]
    }
   ],
   "source": [
    "# Example from SimPy page\n",
    "import simpy\n",
    "def car(env):\n",
    "    while True:\n",
    "        print('Start parking at %d' % env.now)\n",
    "        parking_duration = 5\n",
    "        yield env.timeout(parking_duration)\n",
    "\n",
    "        print('Start driving at %d' % env.now)\n",
    "        trip_duration = 2\n",
    "        yield env.timeout(trip_duration)\n",
    "\n",
    "\n",
    "env = simpy.Environment()\n",
    "env.process(car(env))\n",
    "env.run(until=15)"
   ]
  },
  {
   "cell_type": "markdown",
   "id": "7522d203-83ad-48ac-a4fc-63b5d558f659",
   "metadata": {},
   "source": [
    "## Part 3: Further ideas to create tools based on our model\n",
    "\n",
    "### Optimal service route for vans to follow\n",
    "From [Quickstart — openrouteservice-py 0.4 documentation](https://openrouteservice-py.readthedocs.io/en/latest/index.html):\n",
    "> If you want to optimize the order of multiple waypoints in a simple Traveling Salesman Problem, you can pass a `optimize_waypoints` parameter:\n",
    "> ```python\n",
    "> import openrouteservice\n",
    ">\n",
    "> coords = ((8.34234,48.23424),(8.34423,48.26424), (8.34523,48.24424), (8.41423,48.21424))\n",
    "> \n",
    "> client = openrouteservice.Client(key='') # Specify your personal API key\n",
    "> routes = client.directions(coords, profile='cycling-regular', optimize_waypoints=True)\n",
    "> \n",
    "> print(routes)\n",
    "> ```\n",
    "\n",
    "\n"
   ]
  }
 ],
 "metadata": {
  "kernelspec": {
   "display_name": "Python 3 (ipykernel)",
   "language": "python",
   "name": "python3"
  },
  "language_info": {
   "codemirror_mode": {
    "name": "ipython",
    "version": 3
   },
   "file_extension": ".py",
   "mimetype": "text/x-python",
   "name": "python",
   "nbconvert_exporter": "python",
   "pygments_lexer": "ipython3",
   "version": "3.11.12"
  }
 },
 "nbformat": 4,
 "nbformat_minor": 5
}
